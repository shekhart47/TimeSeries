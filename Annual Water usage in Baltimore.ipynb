{
 "cells": [
  {
   "cell_type": "markdown",
   "metadata": {},
   "source": [
    "# Objective :  Annual Water usage in Baltimore"
   ]
  },
  {
   "cell_type": "markdown",
   "metadata": {},
   "source": [
    "### Steps of the Process\n",
    "\n",
    "1. Problem Description. \n",
    "\n",
    "2. Test Harness.\n",
    "\n",
    "3. Persistence.\n",
    "\n",
    "4. Data Analysis.\n",
    "\n",
    "5. ARIMA Models."
   ]
  },
  {
   "cell_type": "code",
   "execution_count": 1,
   "metadata": {},
   "outputs": [],
   "source": [
    "import pandas as pd\n",
    "import numpy as np\n",
    "from matplotlib import pyplot as plt\n",
    "from sklearn.metrics import mean_squared_error\n",
    "import math\n",
    "import warnings\n",
    "from pandas import Grouper\n",
    "from statsmodels.tsa.stattools import adfuller\n",
    "from statsmodels.graphics.tsaplots import plot_acf\n",
    "from statsmodels.graphics.tsaplots import plot_pacf\n",
    "from statsmodels.tsa.arima_model import ARIMA\n",
    "from scipy.stats import boxcox\n",
    "from statsmodels.graphics.gofplots import qqplot\n",
    "from statsmodels.tsa.arima_model import ARIMAResults "
   ]
  },
  {
   "cell_type": "code",
   "execution_count": 3,
   "metadata": {},
   "outputs": [],
   "source": [
    "def get_data():\n",
    "    return pd.read_csv('water.csv', index_col = 0, header = 0, squeeze = True, parse_dates = True)"
   ]
  },
  {
   "cell_type": "code",
   "execution_count": 4,
   "metadata": {},
   "outputs": [
    {
     "data": {
      "text/plain": [
       "79"
      ]
     },
     "execution_count": 4,
     "metadata": {},
     "output_type": "execute_result"
    }
   ],
   "source": [
    "series = get_data()\n",
    "len(series)"
   ]
  },
  {
   "cell_type": "code",
   "execution_count": 5,
   "metadata": {
    "scrolled": true
   },
   "outputs": [
    {
     "data": {
      "text/plain": [
       "Year\n",
       "1885-01-01    356\n",
       "1886-01-01    386\n",
       "1887-01-01    397\n",
       "1888-01-01    397\n",
       "1889-01-01    413\n",
       "1890-01-01    458\n",
       "1891-01-01    485\n",
       "1892-01-01    344\n",
       "1893-01-01    390\n",
       "1894-01-01    360\n",
       "1895-01-01    420\n",
       "1896-01-01    435\n",
       "1897-01-01    439\n",
       "1898-01-01    454\n",
       "1899-01-01    462\n",
       "1900-01-01    454\n",
       "1901-01-01    469\n",
       "1902-01-01    500\n",
       "1903-01-01    492\n",
       "1904-01-01    473\n",
       "1905-01-01    458\n",
       "1906-01-01    469\n",
       "1907-01-01    481\n",
       "1908-01-01    488\n",
       "1909-01-01    466\n",
       "1910-01-01    462\n",
       "1911-01-01    473\n",
       "1912-01-01    530\n",
       "1913-01-01    662\n",
       "1914-01-01    651\n",
       "             ... \n",
       "1934-01-01    492\n",
       "1935-01-01    503\n",
       "1936-01-01    515\n",
       "1937-01-01    500\n",
       "1938-01-01    522\n",
       "1939-01-01    575\n",
       "1940-01-01    583\n",
       "1941-01-01    587\n",
       "1942-01-01    628\n",
       "1943-01-01    640\n",
       "1944-01-01    609\n",
       "1945-01-01    606\n",
       "1946-01-01    632\n",
       "1947-01-01    617\n",
       "1948-01-01    613\n",
       "1949-01-01    598\n",
       "1950-01-01    575\n",
       "1951-01-01    564\n",
       "1952-01-01    549\n",
       "1953-01-01    538\n",
       "1954-01-01    568\n",
       "1955-01-01    575\n",
       "1956-01-01    579\n",
       "1957-01-01    587\n",
       "1958-01-01    602\n",
       "1959-01-01    594\n",
       "1960-01-01    587\n",
       "1961-01-01    587\n",
       "1962-01-01    625\n",
       "1963-01-01    613\n",
       "Name: Water, Length: 79, dtype: int64"
      ]
     },
     "execution_count": 5,
     "metadata": {},
     "output_type": "execute_result"
    }
   ],
   "source": [
    "series"
   ]
  },
  {
   "cell_type": "code",
   "execution_count": 6,
   "metadata": {},
   "outputs": [
    {
     "data": {
      "text/plain": [
       "<matplotlib.axes._subplots.AxesSubplot at 0x1c1b1f3358>"
      ]
     },
     "execution_count": 6,
     "metadata": {},
     "output_type": "execute_result"
    },
    {
     "data": {
      "image/png": "[encoded data removed]",
      "text/plain": [
       "<Figure size 432x288 with 1 Axes>"
      ]
     },
     "metadata": {
      "needs_background": "light"
     },
     "output_type": "display_data"
    }
   ],
   "source": [
    "series.plot()"
   ]
  },
  {
   "cell_type": "code",
   "execution_count": 7,
   "metadata": {},
   "outputs": [],
   "source": [
    "test_size = len(series)-10\n",
    "dataset, validation = series[0: test_size], series[test_size:]"
   ]
  },
  {
   "cell_type": "markdown",
   "metadata": {},
   "source": [
    "# Persistence Model"
   ]
  },
  {
   "cell_type": "code",
   "execution_count": 15,
   "metadata": {
    "scrolled": true
   },
   "outputs": [
    {
     "name": "stdout",
     "output_type": "stream",
     "text": [
      "Predicted Value : 503.0 : Actual Value : 503.0\n",
      "Predicted Value : 503.0 : Actual Value : 503.0\n",
      "Predicted Value : 503.0 : Actual Value : 515.0\n",
      "Predicted Value : 515.0 : Actual Value : 522.0\n",
      "Predicted Value : 522.0 : Actual Value : 492.0\n",
      "Predicted Value : 492.0 : Actual Value : 503.0\n",
      "Predicted Value : 503.0 : Actual Value : 503.0\n",
      "Predicted Value : 503.0 : Actual Value : 450.0\n",
      "Predicted Value : 450.0 : Actual Value : 432.0\n",
      "Predicted Value : 432.0 : Actual Value : 432.0\n",
      "Predicted Value : 432.0 : Actual Value : 458.0\n",
      "Predicted Value : 458.0 : Actual Value : 462.0\n",
      "Predicted Value : 462.0 : Actual Value : 503.0\n",
      "Predicted Value : 503.0 : Actual Value : 488.0\n",
      "Predicted Value : 488.0 : Actual Value : 466.0\n",
      "Predicted Value : 466.0 : Actual Value : 492.0\n",
      "Predicted Value : 492.0 : Actual Value : 503.0\n",
      "Predicted Value : 503.0 : Actual Value : 515.0\n",
      "Predicted Value : 515.0 : Actual Value : 500.0\n",
      "Predicted Value : 500.0 : Actual Value : 522.0\n",
      "Predicted Value : 522.0 : Actual Value : 575.0\n",
      "Predicted Value : 575.0 : Actual Value : 583.0\n",
      "Predicted Value : 583.0 : Actual Value : 587.0\n",
      "Predicted Value : 587.0 : Actual Value : 628.0\n",
      "Predicted Value : 628.0 : Actual Value : 640.0\n",
      "Predicted Value : 640.0 : Actual Value : 609.0\n",
      "Predicted Value : 609.0 : Actual Value : 606.0\n",
      "Predicted Value : 606.0 : Actual Value : 632.0\n",
      "Predicted Value : 632.0 : Actual Value : 617.0\n",
      "Predicted Value : 617.0 : Actual Value : 613.0\n",
      "Predicted Value : 613.0 : Actual Value : 598.0\n",
      "Predicted Value : 598.0 : Actual Value : 575.0\n",
      "Predicted Value : 575.0 : Actual Value : 564.0\n",
      "Predicted Value : 564.0 : Actual Value : 549.0\n",
      "Predicted Value : 549.0 : Actual Value : 538.0\n",
      "RMSE : 21.974660672463678\n"
     ]
    }
   ],
   "source": [
    "X = dataset.values\n",
    "X = X.astype('float32')\n",
    "train_size = int(len(X) * 0.5)\n",
    "\n",
    "train, test = X[0:train_size], X[train_size:]\n",
    "history = [x for x in train]\n",
    "predictions = []\n",
    "for t in range(len(test)):\n",
    "    y_hat = history[-1]\n",
    "    predictions.append(y_hat)\n",
    "    observation = test[t]\n",
    "    history.append(observation)\n",
    "    print(\"Predicted Value\",y_hat,\"Actual Value\", observation, sep = \" : \")\n",
    "rmse = math.sqrt(mean_squared_error(test,predictions))    \n",
    "print(\"RMSE\", rmse, sep = \" : \")\n",
    "    "
   ]
  },
  {
   "cell_type": "markdown",
   "metadata": {},
   "source": [
    "# Data Analysis"
   ]
  },
  {
   "cell_type": "code",
   "execution_count": 16,
   "metadata": {},
   "outputs": [
    {
     "data": {
      "text/plain": [
       "count     69.000000\n",
       "mean     500.478261\n",
       "std       73.901685\n",
       "min      344.000000\n",
       "25%      458.000000\n",
       "50%      492.000000\n",
       "75%      538.000000\n",
       "max      662.000000\n",
       "Name: Water, dtype: float64"
      ]
     },
     "execution_count": 16,
     "metadata": {},
     "output_type": "execute_result"
    }
   ],
   "source": [
    "dataset.describe()"
   ]
  },
  {
   "cell_type": "markdown",
   "metadata": {},
   "source": [
    "### Observation : \n",
    "\n",
    " - There are a total of 69 values in the dataset\n",
    " - The minimum usage of water is 344 units of liters per capita per day\n",
    " - The maximum usage goes to 662 units of liters per capita per day"
   ]
  },
  {
   "cell_type": "markdown",
   "metadata": {},
   "source": [
    "### Line Plot"
   ]
  },
  {
   "cell_type": "code",
   "execution_count": 18,
   "metadata": {
    "scrolled": false
   },
   "outputs": [
    {
     "data": {
      "image/png": "[encoded data removed]",
      "text/plain": [
       "<Figure size 1080x576 with 1 Axes>"
      ]
     },
     "metadata": {
      "needs_background": "light"
     },
     "output_type": "display_data"
    }
   ],
   "source": [
    "plt.figure(figsize = (15,8))\n",
    "dataset.plot()\n",
    "plt.show()"
   ]
  },
  {
   "cell_type": "markdown",
   "metadata": {},
   "source": [
    "### Observation : \n",
    "\n",
    " - There seems to be an increasing trend in the water usage across the years\n",
    " - The last few years of dataset, seem to have a decreasing trend\n",
    " - There seems no seasonality at first, but this will be looked into more detail at the end\n",
    " \n",
    " \n",
    " Since there is a trend component in the time series, the time series is not stationary, and thus we will have to apply differencing to make it stationary"
   ]
  },
  {
   "cell_type": "markdown",
   "metadata": {},
   "source": [
    "### Density Plots"
   ]
  },
  {
   "cell_type": "code",
   "execution_count": 21,
   "metadata": {},
   "outputs": [
    {
     "data": {
      "image/png": "[encoded data removed]",
      "text/plain": [
       "<Figure size 1080x576 with 1 Axes>"
      ]
     },
     "metadata": {
      "needs_background": "light"
     },
     "output_type": "display_data"
    }
   ],
   "source": [
    "plt.figure(figsize = (15,8))\n",
    "dataset.hist()\n",
    "plt.show()"
   ]
  },
  {
   "cell_type": "code",
   "execution_count": 22,
   "metadata": {},
   "outputs": [
    {
     "data": {
      "image/png": "[encoded data removed]",
      "text/plain": [
       "<Figure size 1080x576 with 1 Axes>"
      ]
     },
     "metadata": {
      "needs_background": "light"
     },
     "output_type": "display_data"
    }
   ],
   "source": [
    "plt.figure(figsize = (15,8))\n",
    "dataset.plot(kind = 'kde')\n",
    "plt.show()"
   ]
  },
  {
   "cell_type": "markdown",
   "metadata": {},
   "source": [
    "### Box And Whisker Plots"
   ]
  },
  {
   "cell_type": "code",
   "execution_count": 30,
   "metadata": {},
   "outputs": [
    {
     "data": {
      "image/png": "[encoded data removed]",
      "text/plain": [
       "<Figure size 1080x576 with 1 Axes>"
      ]
     },
     "metadata": {
      "needs_background": "light"
     },
     "output_type": "display_data"
    }
   ],
   "source": [
    "groups = dataset['1885':'1953'].groupby(Grouper(freq = '10YS'))\n",
    "decades = pd.DataFrame()\n",
    "for name,group in groups:\n",
    "    if len(group.values) == 10:\n",
    "        decades[name.year] = group.values\n",
    "plt.figure(figsize = (15,8))        \n",
    "decades.boxplot()\n",
    "plt.show()"
   ]
  },
  {
   "cell_type": "markdown",
   "metadata": {},
   "source": [
    "### Summary Statistics from Decade to Decade"
   ]
  },
  {
   "cell_type": "code",
   "execution_count": 31,
   "metadata": {},
   "outputs": [
    {
     "data": {
      "text/html": [
       "<div>\n",
       "<style scoped>\n",
       "    .dataframe tbody tr th:only-of-type {\n",
       "        vertical-align: middle;\n",
       "    }\n",
       "\n",
       "    .dataframe tbody tr th {\n",
       "        vertical-align: top;\n",
       "    }\n",
       "\n",
       "    .dataframe thead th {\n",
       "        text-align: right;\n",
       "    }\n",
       "</style>\n",
       "<table border=\"1\" class=\"dataframe\">\n",
       "  <thead>\n",
       "    <tr style=\"text-align: right;\">\n",
       "      <th></th>\n",
       "      <th>1885</th>\n",
       "      <th>1895</th>\n",
       "      <th>1905</th>\n",
       "      <th>1915</th>\n",
       "      <th>1925</th>\n",
       "      <th>1935</th>\n",
       "    </tr>\n",
       "  </thead>\n",
       "  <tbody>\n",
       "    <tr>\n",
       "      <th>0</th>\n",
       "      <td>356</td>\n",
       "      <td>420</td>\n",
       "      <td>458</td>\n",
       "      <td>587</td>\n",
       "      <td>503</td>\n",
       "      <td>503</td>\n",
       "    </tr>\n",
       "    <tr>\n",
       "      <th>1</th>\n",
       "      <td>386</td>\n",
       "      <td>435</td>\n",
       "      <td>469</td>\n",
       "      <td>515</td>\n",
       "      <td>450</td>\n",
       "      <td>515</td>\n",
       "    </tr>\n",
       "    <tr>\n",
       "      <th>2</th>\n",
       "      <td>397</td>\n",
       "      <td>439</td>\n",
       "      <td>481</td>\n",
       "      <td>526</td>\n",
       "      <td>432</td>\n",
       "      <td>500</td>\n",
       "    </tr>\n",
       "    <tr>\n",
       "      <th>3</th>\n",
       "      <td>397</td>\n",
       "      <td>454</td>\n",
       "      <td>488</td>\n",
       "      <td>503</td>\n",
       "      <td>432</td>\n",
       "      <td>522</td>\n",
       "    </tr>\n",
       "    <tr>\n",
       "      <th>4</th>\n",
       "      <td>413</td>\n",
       "      <td>462</td>\n",
       "      <td>466</td>\n",
       "      <td>503</td>\n",
       "      <td>458</td>\n",
       "      <td>575</td>\n",
       "    </tr>\n",
       "    <tr>\n",
       "      <th>5</th>\n",
       "      <td>458</td>\n",
       "      <td>454</td>\n",
       "      <td>462</td>\n",
       "      <td>503</td>\n",
       "      <td>462</td>\n",
       "      <td>583</td>\n",
       "    </tr>\n",
       "    <tr>\n",
       "      <th>6</th>\n",
       "      <td>485</td>\n",
       "      <td>469</td>\n",
       "      <td>473</td>\n",
       "      <td>515</td>\n",
       "      <td>503</td>\n",
       "      <td>587</td>\n",
       "    </tr>\n",
       "    <tr>\n",
       "      <th>7</th>\n",
       "      <td>344</td>\n",
       "      <td>500</td>\n",
       "      <td>530</td>\n",
       "      <td>522</td>\n",
       "      <td>488</td>\n",
       "      <td>628</td>\n",
       "    </tr>\n",
       "    <tr>\n",
       "      <th>8</th>\n",
       "      <td>390</td>\n",
       "      <td>492</td>\n",
       "      <td>662</td>\n",
       "      <td>492</td>\n",
       "      <td>466</td>\n",
       "      <td>640</td>\n",
       "    </tr>\n",
       "    <tr>\n",
       "      <th>9</th>\n",
       "      <td>360</td>\n",
       "      <td>473</td>\n",
       "      <td>651</td>\n",
       "      <td>503</td>\n",
       "      <td>492</td>\n",
       "      <td>609</td>\n",
       "    </tr>\n",
       "  </tbody>\n",
       "</table>\n",
       "</div>"
      ],
      "text/plain": [
       "   1885  1895  1905  1915  1925  1935\n",
       "0   356   420   458   587   503   503\n",
       "1   386   435   469   515   450   515\n",
       "2   397   439   481   526   432   500\n",
       "3   397   454   488   503   432   522\n",
       "4   413   462   466   503   458   575\n",
       "5   458   454   462   503   462   583\n",
       "6   485   469   473   515   503   587\n",
       "7   344   500   530   522   488   628\n",
       "8   390   492   662   492   466   640\n",
       "9   360   473   651   503   492   609"
      ]
     },
     "execution_count": 31,
     "metadata": {},
     "output_type": "execute_result"
    }
   ],
   "source": [
    "decades"
   ]
  },
  {
   "cell_type": "code",
   "execution_count": 40,
   "metadata": {},
   "outputs": [],
   "source": [
    "def get_summary_stats(decades):\n",
    "    summary_stats = []\n",
    "    for i in range(decades.shape[1]):\n",
    "        summary_stats.append(decades.iloc[:,i].describe())\n",
    "    return pd.concat(summary_stats, axis = 1)"
   ]
  },
  {
   "cell_type": "code",
   "execution_count": 41,
   "metadata": {},
   "outputs": [
    {
     "data": {
      "text/html": [
       "<div>\n",
       "<style scoped>\n",
       "    .dataframe tbody tr th:only-of-type {\n",
       "        vertical-align: middle;\n",
       "    }\n",
       "\n",
       "    .dataframe tbody tr th {\n",
       "        vertical-align: top;\n",
       "    }\n",
       "\n",
       "    .dataframe thead th {\n",
       "        text-align: right;\n",
       "    }\n",
       "</style>\n",
       "<table border=\"1\" class=\"dataframe\">\n",
       "  <thead>\n",
       "    <tr style=\"text-align: right;\">\n",
       "      <th></th>\n",
       "      <th>1885</th>\n",
       "      <th>1895</th>\n",
       "      <th>1905</th>\n",
       "      <th>1915</th>\n",
       "      <th>1925</th>\n",
       "      <th>1935</th>\n",
       "    </tr>\n",
       "  </thead>\n",
       "  <tbody>\n",
       "    <tr>\n",
       "      <th>count</th>\n",
       "      <td>10.000000</td>\n",
       "      <td>10.000000</td>\n",
       "      <td>10.000000</td>\n",
       "      <td>10.000000</td>\n",
       "      <td>10.000000</td>\n",
       "      <td>10.000000</td>\n",
       "    </tr>\n",
       "    <tr>\n",
       "      <th>mean</th>\n",
       "      <td>398.600000</td>\n",
       "      <td>459.800000</td>\n",
       "      <td>514.000000</td>\n",
       "      <td>516.900000</td>\n",
       "      <td>468.600000</td>\n",
       "      <td>566.200000</td>\n",
       "    </tr>\n",
       "    <tr>\n",
       "      <th>std</th>\n",
       "      <td>44.377672</td>\n",
       "      <td>24.979102</td>\n",
       "      <td>77.848856</td>\n",
       "      <td>26.714332</td>\n",
       "      <td>26.829503</td>\n",
       "      <td>52.537394</td>\n",
       "    </tr>\n",
       "    <tr>\n",
       "      <th>min</th>\n",
       "      <td>344.000000</td>\n",
       "      <td>420.000000</td>\n",
       "      <td>458.000000</td>\n",
       "      <td>492.000000</td>\n",
       "      <td>432.000000</td>\n",
       "      <td>500.000000</td>\n",
       "    </tr>\n",
       "    <tr>\n",
       "      <th>25%</th>\n",
       "      <td>366.500000</td>\n",
       "      <td>442.750000</td>\n",
       "      <td>466.750000</td>\n",
       "      <td>503.000000</td>\n",
       "      <td>452.000000</td>\n",
       "      <td>516.750000</td>\n",
       "    </tr>\n",
       "    <tr>\n",
       "      <th>50%</th>\n",
       "      <td>393.500000</td>\n",
       "      <td>458.000000</td>\n",
       "      <td>477.000000</td>\n",
       "      <td>509.000000</td>\n",
       "      <td>464.000000</td>\n",
       "      <td>579.000000</td>\n",
       "    </tr>\n",
       "    <tr>\n",
       "      <th>75%</th>\n",
       "      <td>409.000000</td>\n",
       "      <td>472.000000</td>\n",
       "      <td>519.500000</td>\n",
       "      <td>520.250000</td>\n",
       "      <td>491.000000</td>\n",
       "      <td>603.500000</td>\n",
       "    </tr>\n",
       "    <tr>\n",
       "      <th>max</th>\n",
       "      <td>485.000000</td>\n",
       "      <td>500.000000</td>\n",
       "      <td>662.000000</td>\n",
       "      <td>587.000000</td>\n",
       "      <td>503.000000</td>\n",
       "      <td>640.000000</td>\n",
       "    </tr>\n",
       "  </tbody>\n",
       "</table>\n",
       "</div>"
      ],
      "text/plain": [
       "             1885        1895        1905        1915        1925        1935\n",
       "count   10.000000   10.000000   10.000000   10.000000   10.000000   10.000000\n",
       "mean   398.600000  459.800000  514.000000  516.900000  468.600000  566.200000\n",
       "std     44.377672   24.979102   77.848856   26.714332   26.829503   52.537394\n",
       "min    344.000000  420.000000  458.000000  492.000000  432.000000  500.000000\n",
       "25%    366.500000  442.750000  466.750000  503.000000  452.000000  516.750000\n",
       "50%    393.500000  458.000000  477.000000  509.000000  464.000000  579.000000\n",
       "75%    409.000000  472.000000  519.500000  520.250000  491.000000  603.500000\n",
       "max    485.000000  500.000000  662.000000  587.000000  503.000000  640.000000"
      ]
     },
     "execution_count": 41,
     "metadata": {},
     "output_type": "execute_result"
    }
   ],
   "source": [
    "summary_10Y = get_summary_stats(decades)\n",
    "summary_10Y"
   ]
  },
  {
   "cell_type": "markdown",
   "metadata": {},
   "source": [
    "# Arima Model : Manually Configured"
   ]
  },
  {
   "cell_type": "markdown",
   "metadata": {},
   "source": [
    "Before we develop an ARIMA model, we check for stationarity in the series, and we can do that by using the adfuller test on top of the differencing method\n",
    "After we are done checking the stationarity of the dataset, we will then plot autocorrelation plots and partial-autorcorrelation plots"
   ]
  },
  {
   "cell_type": "code",
   "execution_count": 44,
   "metadata": {},
   "outputs": [
    {
     "name": "stdout",
     "output_type": "stream",
     "text": [
      "ADF Statsistic : -6.126718808474715\n",
      "p Value : 8.593851954694127e-08\n",
      "1% : -3.5335601309235605\n",
      "5% : -2.9064436883991434\n",
      "10% : -2.590723948576676\n"
     ]
    }
   ],
   "source": [
    "def difference_series(dataset):\n",
    "    differenced = [dataset[i] -  dataset[i-1] for i in range(1, len(dataset))]\n",
    "    return differenced\n",
    "\n",
    "\n",
    "X = dataset.values\n",
    "X = X.astype('float32')\n",
    "differenced  = difference_series(X)\n",
    "result = adfuller(differenced)\n",
    "\n",
    "print(\"ADF Statsistic\",result[0], sep = \" : \")\n",
    "print(\"p Value\", result[1], sep = \" : \")\n",
    "for key, value in result[4].items():\n",
    "    print(key,value, sep = \" : \")"
   ]
  },
  {
   "cell_type": "markdown",
   "metadata": {},
   "source": [
    "`Conclusion` : \n",
    "\n",
    "\n",
    "We can easily reject the null hypothesis here, and conclude that after differencing there seems to be no stationarity present in the series, or in other words there seems to be no temporal structure present in the dataset"
   ]
  },
  {
   "cell_type": "markdown",
   "metadata": {},
   "source": [
    "### Autocorrelation Plots and Partial Autocorrelation Plots :  Dataset"
   ]
  },
  {
   "cell_type": "code",
   "execution_count": 52,
   "metadata": {},
   "outputs": [
    {
     "data": {
      "image/png": "[encoded data removed]",
      "text/plain": [
       "<Figure size 432x288 with 1 Axes>"
      ]
     },
     "metadata": {
      "needs_background": "light"
     },
     "output_type": "display_data"
    }
   ],
   "source": [
    "plot_acf(pd.DataFrame(dataset), lags = 30)\n",
    "plt.show()"
   ]
  },
  {
   "cell_type": "code",
   "execution_count": 53,
   "metadata": {},
   "outputs": [
    {
     "name": "stderr",
     "output_type": "stream",
     "text": [
      "/Users/shekhartanwar/anaconda3/lib/python3.7/site-packages/statsmodels/regression/linear_model.py:1358: RuntimeWarning: invalid value encountered in sqrt\n",
      "  return rho, np.sqrt(sigmasq)\n"
     ]
    },
    {
     "data": {
      "image/png": "[encoded data removed]",
      "text/plain": [
       "<Figure size 432x288 with 1 Axes>"
      ]
     },
     "metadata": {
      "needs_background": "light"
     },
     "output_type": "display_data"
    }
   ],
   "source": [
    "plot_pacf(pd.DataFrame(dataset), lags = 30)\n",
    "plt.show()"
   ]
  },
  {
   "cell_type": "markdown",
   "metadata": {},
   "source": [
    "### Observation  :  \n",
    "\n",
    " - There seems to be statistical significant relationship between the lag variables (0-5) Plot 1 - Autocorrelation\n",
    " - There seems to be statistical significant relationship between the lag variables (0-2) Plot 2 - Partial-Autocorrelation\n"
   ]
  },
  {
   "cell_type": "markdown",
   "metadata": {},
   "source": [
    "### Autocorrelation Plots and Partial Autocorrelation Plots :  Differenced Series"
   ]
  },
  {
   "cell_type": "code",
   "execution_count": 50,
   "metadata": {
    "scrolled": true
   },
   "outputs": [
    {
     "data": {
      "image/png": "[encoded data removed]",
      "text/plain": [
       "<Figure size 432x288 with 1 Axes>"
      ]
     },
     "metadata": {
      "needs_background": "light"
     },
     "output_type": "display_data"
    }
   ],
   "source": [
    "plot_acf(pd.DataFrame(differenced), lags = 30)\n",
    "plt.show()"
   ]
  },
  {
   "cell_type": "code",
   "execution_count": 51,
   "metadata": {
    "scrolled": true
   },
   "outputs": [
    {
     "data": {
      "image/png": "[encoded data removed]",
      "text/plain": [
       "<Figure size 432x288 with 1 Axes>"
      ]
     },
     "metadata": {
      "needs_background": "light"
     },
     "output_type": "display_data"
    }
   ],
   "source": [
    "plot_pacf(pd.DataFrame(differenced), lags = 30)\n",
    "plt.show()"
   ]
  },
  {
   "cell_type": "markdown",
   "metadata": {},
   "source": [
    "### Observation  :  \n",
    "\n",
    " - There seems to be statistical significant relationship between the lag variables (0) Plot 1 - Autocorrelation\n",
    " - There seems to be statistical significant relationship between the lag variables (0) Plot 2 - Partial-Autocorrelation\n",
    "\n",
    "Indicating that we have sqeezed out all the information we could from the dataset"
   ]
  },
  {
   "cell_type": "markdown",
   "metadata": {},
   "source": [
    "### Automated ARIMA"
   ]
  },
  {
   "cell_type": "markdown",
   "metadata": {},
   "source": [
    "### Configuration :\n",
    " - p_range : 0-5\n",
    " - d_range : 0-2\n",
    " - q_range : 0-5\n",
    " \n",
    " Setting these values will essentially perform different levels of differencing between number of lag variables and will give us results based on a moving average window of size q"
   ]
  },
  {
   "cell_type": "code",
   "execution_count": 59,
   "metadata": {},
   "outputs": [],
   "source": [
    "def evaluate_arima(data, arima_order):\n",
    "    X = dataset.values\n",
    "    X = X.astype('float32')\n",
    "    train_size = int(len(X) * 0.5)\n",
    "\n",
    "    train, test = X[0:train_size], X[train_size :]\n",
    "\n",
    "\n",
    "    history = [x for x in train]\n",
    "    \n",
    "    predictions = []\n",
    "    \n",
    "    for t in range(len(test)):\n",
    "        model = ARIMA(history, arima_order)\n",
    "        model_fit = model.fit(trend = 'nc',disp = 0)\n",
    "        y_hat  = model_fit.forecast()[0]\n",
    "        \n",
    "        observation = test[t]\n",
    "        \n",
    "        predictions.append(y_hat)\n",
    "        history.append(observation)\n",
    "        \n",
    "    rmse =  math.sqrt(mean_squared_error(test,predictions))\n",
    "    return rmse\n"
   ]
  },
  {
   "cell_type": "code",
   "execution_count": 60,
   "metadata": {},
   "outputs": [],
   "source": [
    "def make_model(dataset, p_range, d_range, q_range):\n",
    "    dataset = dataset.astype('float32')\n",
    "    best_rmse, best_config = float('inf'),None\n",
    "    for p in p_range:\n",
    "        for d in d_range:\n",
    "            for q in q_range:\n",
    "                try:\n",
    "                    rmse = evaluate_arima(dataset, (p,d,q))\n",
    "                    if rmse < best_rmse:\n",
    "                        best_rmse = rmse\n",
    "                        best_config  = (p,d,q)\n",
    "                    print(\"Model RMSE\", rmse, \"Config\", (p,d,q), sep = \" : \")\n",
    "                except:\n",
    "                    continue\n",
    "    print(\"Best RMSE\", best_rmse, \"Best Config\", best_config, sep =  \" : \")\n",
    "    "
   ]
  },
  {
   "cell_type": "code",
   "execution_count": 61,
   "metadata": {},
   "outputs": [
    {
     "name": "stdout",
     "output_type": "stream",
     "text": [
      "Model RMSE : 282.6580177865594 : Config : (0, 0, 1)\n",
      "Model RMSE : 77.29892415823127 : Config : (0, 0, 4)\n",
      "Model RMSE : 21.90734100745434 : Config : (0, 1, 1)\n",
      "Model RMSE : 22.182030407974256 : Config : (0, 1, 2)\n",
      "Model RMSE : 24.732854112011566 : Config : (0, 1, 3)\n",
      "Model RMSE : 24.84506136414902 : Config : (0, 1, 4)\n"
     ]
    },
    {
     "name": "stderr",
     "output_type": "stream",
     "text": [
      "/Users/shekhartanwar/anaconda3/lib/python3.7/site-packages/statsmodels/tsa/kalmanf/kalmanfilter.py:221: RuntimeWarning: divide by zero encountered in true_divide\n",
      "  Z_mat, R_mat, T_mat)\n",
      "/Users/shekhartanwar/anaconda3/lib/python3.7/site-packages/statsmodels/base/model.py:492: HessianInversionWarning: Inverting hessian failed, no bse or cov_params available\n",
      "  'available', HessianInversionWarning)\n",
      "/Users/shekhartanwar/anaconda3/lib/python3.7/site-packages/statsmodels/base/model.py:492: HessianInversionWarning: Inverting hessian failed, no bse or cov_params available\n",
      "  'available', HessianInversionWarning)\n",
      "/Users/shekhartanwar/anaconda3/lib/python3.7/site-packages/statsmodels/base/model.py:492: HessianInversionWarning: Inverting hessian failed, no bse or cov_params available\n",
      "  'available', HessianInversionWarning)\n",
      "/Users/shekhartanwar/anaconda3/lib/python3.7/site-packages/statsmodels/base/model.py:492: HessianInversionWarning: Inverting hessian failed, no bse or cov_params available\n",
      "  'available', HessianInversionWarning)\n"
     ]
    },
    {
     "name": "stdout",
     "output_type": "stream",
     "text": [
      "Model RMSE : 22.061377500935 : Config : (1, 0, 0)\n",
      "Model RMSE : 21.921720559925497 : Config : (1, 1, 0)\n"
     ]
    },
    {
     "name": "stderr",
     "output_type": "stream",
     "text": [
      "/Users/shekhartanwar/anaconda3/lib/python3.7/site-packages/statsmodels/base/model.py:492: HessianInversionWarning: Inverting hessian failed, no bse or cov_params available\n",
      "  'available', HessianInversionWarning)\n",
      "/Users/shekhartanwar/anaconda3/lib/python3.7/site-packages/statsmodels/base/model.py:492: HessianInversionWarning: Inverting hessian failed, no bse or cov_params available\n",
      "  'available', HessianInversionWarning)\n",
      "/Users/shekhartanwar/anaconda3/lib/python3.7/site-packages/statsmodels/base/model.py:492: HessianInversionWarning: Inverting hessian failed, no bse or cov_params available\n",
      "  'available', HessianInversionWarning)\n",
      "/Users/shekhartanwar/anaconda3/lib/python3.7/site-packages/statsmodels/base/model.py:492: HessianInversionWarning: Inverting hessian failed, no bse or cov_params available\n",
      "  'available', HessianInversionWarning)\n",
      "/Users/shekhartanwar/anaconda3/lib/python3.7/site-packages/statsmodels/base/model.py:492: HessianInversionWarning: Inverting hessian failed, no bse or cov_params available\n",
      "  'available', HessianInversionWarning)\n",
      "/Users/shekhartanwar/anaconda3/lib/python3.7/site-packages/statsmodels/base/model.py:492: HessianInversionWarning: Inverting hessian failed, no bse or cov_params available\n",
      "  'available', HessianInversionWarning)\n",
      "/Users/shekhartanwar/anaconda3/lib/python3.7/site-packages/statsmodels/base/model.py:492: HessianInversionWarning: Inverting hessian failed, no bse or cov_params available\n",
      "  'available', HessianInversionWarning)\n",
      "/Users/shekhartanwar/anaconda3/lib/python3.7/site-packages/statsmodels/base/model.py:492: HessianInversionWarning: Inverting hessian failed, no bse or cov_params available\n",
      "  'available', HessianInversionWarning)\n",
      "/Users/shekhartanwar/anaconda3/lib/python3.7/site-packages/statsmodels/base/model.py:492: HessianInversionWarning: Inverting hessian failed, no bse or cov_params available\n",
      "  'available', HessianInversionWarning)\n",
      "/Users/shekhartanwar/anaconda3/lib/python3.7/site-packages/statsmodels/base/model.py:492: HessianInversionWarning: Inverting hessian failed, no bse or cov_params available\n",
      "  'available', HessianInversionWarning)\n",
      "/Users/shekhartanwar/anaconda3/lib/python3.7/site-packages/statsmodels/base/model.py:492: HessianInversionWarning: Inverting hessian failed, no bse or cov_params available\n",
      "  'available', HessianInversionWarning)\n",
      "/Users/shekhartanwar/anaconda3/lib/python3.7/site-packages/statsmodels/base/model.py:492: HessianInversionWarning: Inverting hessian failed, no bse or cov_params available\n",
      "  'available', HessianInversionWarning)\n",
      "/Users/shekhartanwar/anaconda3/lib/python3.7/site-packages/statsmodels/base/model.py:492: HessianInversionWarning: Inverting hessian failed, no bse or cov_params available\n",
      "  'available', HessianInversionWarning)\n",
      "/Users/shekhartanwar/anaconda3/lib/python3.7/site-packages/statsmodels/base/model.py:492: HessianInversionWarning: Inverting hessian failed, no bse or cov_params available\n",
      "  'available', HessianInversionWarning)\n",
      "/Users/shekhartanwar/anaconda3/lib/python3.7/site-packages/statsmodels/base/model.py:492: HessianInversionWarning: Inverting hessian failed, no bse or cov_params available\n",
      "  'available', HessianInversionWarning)\n",
      "/Users/shekhartanwar/anaconda3/lib/python3.7/site-packages/statsmodels/base/model.py:512: ConvergenceWarning: Maximum Likelihood optimization failed to converge. Check mle_retvals\n",
      "  \"Check mle_retvals\", ConvergenceWarning)\n",
      "/Users/shekhartanwar/anaconda3/lib/python3.7/site-packages/statsmodels/base/model.py:492: HessianInversionWarning: Inverting hessian failed, no bse or cov_params available\n",
      "  'available', HessianInversionWarning)\n",
      "/Users/shekhartanwar/anaconda3/lib/python3.7/site-packages/statsmodels/tsa/kalmanf/kalmanfilter.py:221: RuntimeWarning: divide by zero encountered in true_divide\n",
      "  Z_mat, R_mat, T_mat)\n",
      "/Users/shekhartanwar/anaconda3/lib/python3.7/site-packages/statsmodels/tsa/tsatools.py:668: RuntimeWarning: invalid value encountered in true_divide\n",
      "  newparams = ((1-np.exp(-params))/(1+np.exp(-params))).copy()\n",
      "/Users/shekhartanwar/anaconda3/lib/python3.7/site-packages/statsmodels/tsa/tsatools.py:669: RuntimeWarning: invalid value encountered in true_divide\n",
      "  tmp = ((1-np.exp(-params))/(1+np.exp(-params))).copy()\n",
      "/Users/shekhartanwar/anaconda3/lib/python3.7/site-packages/statsmodels/base/model.py:492: HessianInversionWarning: Inverting hessian failed, no bse or cov_params available\n",
      "  'available', HessianInversionWarning)\n",
      "/Users/shekhartanwar/anaconda3/lib/python3.7/site-packages/statsmodels/base/model.py:512: ConvergenceWarning: Maximum Likelihood optimization failed to converge. Check mle_retvals\n",
      "  \"Check mle_retvals\", ConvergenceWarning)\n",
      "/Users/shekhartanwar/anaconda3/lib/python3.7/site-packages/statsmodels/base/model.py:492: HessianInversionWarning: Inverting hessian failed, no bse or cov_params available\n",
      "  'available', HessianInversionWarning)\n",
      "/Users/shekhartanwar/anaconda3/lib/python3.7/site-packages/statsmodels/base/model.py:492: HessianInversionWarning: Inverting hessian failed, no bse or cov_params available\n",
      "  'available', HessianInversionWarning)\n",
      "/Users/shekhartanwar/anaconda3/lib/python3.7/site-packages/statsmodels/base/model.py:492: HessianInversionWarning: Inverting hessian failed, no bse or cov_params available\n",
      "  'available', HessianInversionWarning)\n",
      "/Users/shekhartanwar/anaconda3/lib/python3.7/site-packages/statsmodels/base/model.py:512: ConvergenceWarning: Maximum Likelihood optimization failed to converge. Check mle_retvals\n",
      "  \"Check mle_retvals\", ConvergenceWarning)\n"
     ]
    },
    {
     "name": "stdout",
     "output_type": "stream",
     "text": [
      "Model RMSE : 22.26575816141482 : Config : (2, 0, 0)\n",
      "Model RMSE : 21.732610507221565 : Config : (2, 1, 0)\n"
     ]
    },
    {
     "name": "stderr",
     "output_type": "stream",
     "text": [
      "/Users/shekhartanwar/anaconda3/lib/python3.7/site-packages/statsmodels/base/model.py:492: HessianInversionWarning: Inverting hessian failed, no bse or cov_params available\n",
      "  'available', HessianInversionWarning)\n",
      "/Users/shekhartanwar/anaconda3/lib/python3.7/site-packages/statsmodels/base/model.py:492: HessianInversionWarning: Inverting hessian failed, no bse or cov_params available\n",
      "  'available', HessianInversionWarning)\n"
     ]
    },
    {
     "name": "stdout",
     "output_type": "stream",
     "text": [
      "Model RMSE : 21.97104747254528 : Config : (3, 0, 0)\n",
      "Model RMSE : 24.26968524569842 : Config : (3, 1, 0)\n",
      "Model RMSE : 25.49117398977829 : Config : (3, 1, 1)\n"
     ]
    },
    {
     "name": "stderr",
     "output_type": "stream",
     "text": [
      "/Users/shekhartanwar/anaconda3/lib/python3.7/site-packages/statsmodels/tsa/tsatools.py:668: RuntimeWarning: invalid value encountered in true_divide\n",
      "  newparams = ((1-np.exp(-params))/(1+np.exp(-params))).copy()\n",
      "/Users/shekhartanwar/anaconda3/lib/python3.7/site-packages/statsmodels/tsa/tsatools.py:669: RuntimeWarning: invalid value encountered in true_divide\n",
      "  tmp = ((1-np.exp(-params))/(1+np.exp(-params))).copy()\n",
      "/Users/shekhartanwar/anaconda3/lib/python3.7/site-packages/statsmodels/base/model.py:492: HessianInversionWarning: Inverting hessian failed, no bse or cov_params available\n",
      "  'available', HessianInversionWarning)\n",
      "/Users/shekhartanwar/anaconda3/lib/python3.7/site-packages/statsmodels/base/model.py:492: HessianInversionWarning: Inverting hessian failed, no bse or cov_params available\n",
      "  'available', HessianInversionWarning)\n",
      "/Users/shekhartanwar/anaconda3/lib/python3.7/site-packages/statsmodels/base/model.py:492: HessianInversionWarning: Inverting hessian failed, no bse or cov_params available\n",
      "  'available', HessianInversionWarning)\n",
      "/Users/shekhartanwar/anaconda3/lib/python3.7/site-packages/statsmodels/base/model.py:492: HessianInversionWarning: Inverting hessian failed, no bse or cov_params available\n",
      "  'available', HessianInversionWarning)\n",
      "/Users/shekhartanwar/anaconda3/lib/python3.7/site-packages/statsmodels/base/model.py:492: HessianInversionWarning: Inverting hessian failed, no bse or cov_params available\n",
      "  'available', HessianInversionWarning)\n",
      "/Users/shekhartanwar/anaconda3/lib/python3.7/site-packages/statsmodels/base/model.py:512: ConvergenceWarning: Maximum Likelihood optimization failed to converge. Check mle_retvals\n",
      "  \"Check mle_retvals\", ConvergenceWarning)\n",
      "/Users/shekhartanwar/anaconda3/lib/python3.7/site-packages/statsmodels/base/model.py:512: ConvergenceWarning: Maximum Likelihood optimization failed to converge. Check mle_retvals\n",
      "  \"Check mle_retvals\", ConvergenceWarning)\n",
      "/Users/shekhartanwar/anaconda3/lib/python3.7/site-packages/statsmodels/base/model.py:492: HessianInversionWarning: Inverting hessian failed, no bse or cov_params available\n",
      "  'available', HessianInversionWarning)\n",
      "/Users/shekhartanwar/anaconda3/lib/python3.7/site-packages/statsmodels/base/model.py:492: HessianInversionWarning: Inverting hessian failed, no bse or cov_params available\n",
      "  'available', HessianInversionWarning)\n"
     ]
    },
    {
     "name": "stdout",
     "output_type": "stream",
     "text": [
      "Model RMSE : 24.25313010211237 : Config : (4, 0, 0)\n",
      "Model RMSE : 24.80212466795521 : Config : (4, 1, 0)\n"
     ]
    },
    {
     "name": "stderr",
     "output_type": "stream",
     "text": [
      "/Users/shekhartanwar/anaconda3/lib/python3.7/site-packages/statsmodels/base/model.py:492: HessianInversionWarning: Inverting hessian failed, no bse or cov_params available\n",
      "  'available', HessianInversionWarning)\n",
      "/Users/shekhartanwar/anaconda3/lib/python3.7/site-packages/statsmodels/base/model.py:492: HessianInversionWarning: Inverting hessian failed, no bse or cov_params available\n",
      "  'available', HessianInversionWarning)\n",
      "/Users/shekhartanwar/anaconda3/lib/python3.7/site-packages/statsmodels/base/model.py:492: HessianInversionWarning: Inverting hessian failed, no bse or cov_params available\n",
      "  'available', HessianInversionWarning)\n",
      "/Users/shekhartanwar/anaconda3/lib/python3.7/site-packages/statsmodels/base/model.py:492: HessianInversionWarning: Inverting hessian failed, no bse or cov_params available\n",
      "  'available', HessianInversionWarning)\n",
      "/Users/shekhartanwar/anaconda3/lib/python3.7/site-packages/statsmodels/base/model.py:492: HessianInversionWarning: Inverting hessian failed, no bse or cov_params available\n",
      "  'available', HessianInversionWarning)\n",
      "/Users/shekhartanwar/anaconda3/lib/python3.7/site-packages/statsmodels/base/model.py:492: HessianInversionWarning: Inverting hessian failed, no bse or cov_params available\n",
      "  'available', HessianInversionWarning)\n",
      "/Users/shekhartanwar/anaconda3/lib/python3.7/site-packages/statsmodels/base/model.py:492: HessianInversionWarning: Inverting hessian failed, no bse or cov_params available\n",
      "  'available', HessianInversionWarning)\n",
      "/Users/shekhartanwar/anaconda3/lib/python3.7/site-packages/statsmodels/base/model.py:492: HessianInversionWarning: Inverting hessian failed, no bse or cov_params available\n",
      "  'available', HessianInversionWarning)\n",
      "/Users/shekhartanwar/anaconda3/lib/python3.7/site-packages/statsmodels/base/model.py:492: HessianInversionWarning: Inverting hessian failed, no bse or cov_params available\n",
      "  'available', HessianInversionWarning)\n",
      "/Users/shekhartanwar/anaconda3/lib/python3.7/site-packages/statsmodels/base/model.py:492: HessianInversionWarning: Inverting hessian failed, no bse or cov_params available\n",
      "  'available', HessianInversionWarning)\n"
     ]
    },
    {
     "name": "stdout",
     "output_type": "stream",
     "text": [
      "Model RMSE : 25.103421630406196 : Config : (4, 1, 1)\n"
     ]
    },
    {
     "name": "stderr",
     "output_type": "stream",
     "text": [
      "/Users/shekhartanwar/anaconda3/lib/python3.7/site-packages/statsmodels/base/model.py:492: HessianInversionWarning: Inverting hessian failed, no bse or cov_params available\n",
      "  'available', HessianInversionWarning)\n",
      "/Users/shekhartanwar/anaconda3/lib/python3.7/site-packages/statsmodels/base/model.py:512: ConvergenceWarning: Maximum Likelihood optimization failed to converge. Check mle_retvals\n",
      "  \"Check mle_retvals\", ConvergenceWarning)\n",
      "/Users/shekhartanwar/anaconda3/lib/python3.7/site-packages/statsmodels/base/model.py:492: HessianInversionWarning: Inverting hessian failed, no bse or cov_params available\n",
      "  'available', HessianInversionWarning)\n",
      "/Users/shekhartanwar/anaconda3/lib/python3.7/site-packages/statsmodels/base/model.py:492: HessianInversionWarning: Inverting hessian failed, no bse or cov_params available\n",
      "  'available', HessianInversionWarning)\n",
      "/Users/shekhartanwar/anaconda3/lib/python3.7/site-packages/statsmodels/base/model.py:512: ConvergenceWarning: Maximum Likelihood optimization failed to converge. Check mle_retvals\n",
      "  \"Check mle_retvals\", ConvergenceWarning)\n",
      "/Users/shekhartanwar/anaconda3/lib/python3.7/site-packages/statsmodels/base/model.py:492: HessianInversionWarning: Inverting hessian failed, no bse or cov_params available\n",
      "  'available', HessianInversionWarning)\n",
      "/Users/shekhartanwar/anaconda3/lib/python3.7/site-packages/statsmodels/base/model.py:492: HessianInversionWarning: Inverting hessian failed, no bse or cov_params available\n",
      "  'available', HessianInversionWarning)\n",
      "/Users/shekhartanwar/anaconda3/lib/python3.7/site-packages/statsmodels/tsa/tsatools.py:668: RuntimeWarning: invalid value encountered in true_divide\n",
      "  newparams = ((1-np.exp(-params))/(1+np.exp(-params))).copy()\n",
      "/Users/shekhartanwar/anaconda3/lib/python3.7/site-packages/statsmodels/tsa/tsatools.py:669: RuntimeWarning: invalid value encountered in true_divide\n",
      "  tmp = ((1-np.exp(-params))/(1+np.exp(-params))).copy()\n",
      "/Users/shekhartanwar/anaconda3/lib/python3.7/site-packages/statsmodels/base/model.py:492: HessianInversionWarning: Inverting hessian failed, no bse or cov_params available\n",
      "  'available', HessianInversionWarning)\n",
      "/Users/shekhartanwar/anaconda3/lib/python3.7/site-packages/statsmodels/base/model.py:492: HessianInversionWarning: Inverting hessian failed, no bse or cov_params available\n",
      "  'available', HessianInversionWarning)\n",
      "/Users/shekhartanwar/anaconda3/lib/python3.7/site-packages/statsmodels/base/model.py:492: HessianInversionWarning: Inverting hessian failed, no bse or cov_params available\n",
      "  'available', HessianInversionWarning)\n",
      "/Users/shekhartanwar/anaconda3/lib/python3.7/site-packages/statsmodels/base/model.py:492: HessianInversionWarning: Inverting hessian failed, no bse or cov_params available\n",
      "  'available', HessianInversionWarning)\n",
      "/Users/shekhartanwar/anaconda3/lib/python3.7/site-packages/statsmodels/base/model.py:492: HessianInversionWarning: Inverting hessian failed, no bse or cov_params available\n",
      "  'available', HessianInversionWarning)\n",
      "/Users/shekhartanwar/anaconda3/lib/python3.7/site-packages/statsmodels/base/model.py:512: ConvergenceWarning: Maximum Likelihood optimization failed to converge. Check mle_retvals\n",
      "  \"Check mle_retvals\", ConvergenceWarning)\n",
      "/Users/shekhartanwar/anaconda3/lib/python3.7/site-packages/statsmodels/base/model.py:492: HessianInversionWarning: Inverting hessian failed, no bse or cov_params available\n",
      "  'available', HessianInversionWarning)\n",
      "/Users/shekhartanwar/anaconda3/lib/python3.7/site-packages/statsmodels/base/model.py:492: HessianInversionWarning: Inverting hessian failed, no bse or cov_params available\n",
      "  'available', HessianInversionWarning)\n",
      "/Users/shekhartanwar/anaconda3/lib/python3.7/site-packages/statsmodels/base/model.py:512: ConvergenceWarning: Maximum Likelihood optimization failed to converge. Check mle_retvals\n",
      "  \"Check mle_retvals\", ConvergenceWarning)\n",
      "/Users/shekhartanwar/anaconda3/lib/python3.7/site-packages/statsmodels/base/model.py:492: HessianInversionWarning: Inverting hessian failed, no bse or cov_params available\n",
      "  'available', HessianInversionWarning)\n",
      "/Users/shekhartanwar/anaconda3/lib/python3.7/site-packages/statsmodels/base/model.py:512: ConvergenceWarning: Maximum Likelihood optimization failed to converge. Check mle_retvals\n",
      "  \"Check mle_retvals\", ConvergenceWarning)\n",
      "/Users/shekhartanwar/anaconda3/lib/python3.7/site-packages/statsmodels/base/model.py:492: HessianInversionWarning: Inverting hessian failed, no bse or cov_params available\n",
      "  'available', HessianInversionWarning)\n",
      "/Users/shekhartanwar/anaconda3/lib/python3.7/site-packages/statsmodels/base/model.py:492: HessianInversionWarning: Inverting hessian failed, no bse or cov_params available\n",
      "  'available', HessianInversionWarning)\n",
      "/Users/shekhartanwar/anaconda3/lib/python3.7/site-packages/statsmodels/base/model.py:492: HessianInversionWarning: Inverting hessian failed, no bse or cov_params available\n",
      "  'available', HessianInversionWarning)\n",
      "/Users/shekhartanwar/anaconda3/lib/python3.7/site-packages/statsmodels/base/model.py:492: HessianInversionWarning: Inverting hessian failed, no bse or cov_params available\n",
      "  'available', HessianInversionWarning)\n",
      "/Users/shekhartanwar/anaconda3/lib/python3.7/site-packages/statsmodels/base/model.py:492: HessianInversionWarning: Inverting hessian failed, no bse or cov_params available\n",
      "  'available', HessianInversionWarning)\n",
      "/Users/shekhartanwar/anaconda3/lib/python3.7/site-packages/statsmodels/base/model.py:512: ConvergenceWarning: Maximum Likelihood optimization failed to converge. Check mle_retvals\n",
      "  \"Check mle_retvals\", ConvergenceWarning)\n",
      "/Users/shekhartanwar/anaconda3/lib/python3.7/site-packages/statsmodels/base/model.py:492: HessianInversionWarning: Inverting hessian failed, no bse or cov_params available\n",
      "  'available', HessianInversionWarning)\n",
      "/Users/shekhartanwar/anaconda3/lib/python3.7/site-packages/statsmodels/base/model.py:492: HessianInversionWarning: Inverting hessian failed, no bse or cov_params available\n",
      "  'available', HessianInversionWarning)\n",
      "/Users/shekhartanwar/anaconda3/lib/python3.7/site-packages/statsmodels/base/model.py:492: HessianInversionWarning: Inverting hessian failed, no bse or cov_params available\n",
      "  'available', HessianInversionWarning)\n",
      "/Users/shekhartanwar/anaconda3/lib/python3.7/site-packages/statsmodels/base/model.py:492: HessianInversionWarning: Inverting hessian failed, no bse or cov_params available\n",
      "  'available', HessianInversionWarning)\n",
      "/Users/shekhartanwar/anaconda3/lib/python3.7/site-packages/statsmodels/base/model.py:492: HessianInversionWarning: Inverting hessian failed, no bse or cov_params available\n",
      "  'available', HessianInversionWarning)\n",
      "/Users/shekhartanwar/anaconda3/lib/python3.7/site-packages/statsmodels/base/model.py:492: HessianInversionWarning: Inverting hessian failed, no bse or cov_params available\n",
      "  'available', HessianInversionWarning)\n",
      "/Users/shekhartanwar/anaconda3/lib/python3.7/site-packages/statsmodels/base/model.py:492: HessianInversionWarning: Inverting hessian failed, no bse or cov_params available\n",
      "  'available', HessianInversionWarning)\n",
      "/Users/shekhartanwar/anaconda3/lib/python3.7/site-packages/statsmodels/base/model.py:512: ConvergenceWarning: Maximum Likelihood optimization failed to converge. Check mle_retvals\n",
      "  \"Check mle_retvals\", ConvergenceWarning)\n",
      "/Users/shekhartanwar/anaconda3/lib/python3.7/site-packages/statsmodels/base/model.py:492: HessianInversionWarning: Inverting hessian failed, no bse or cov_params available\n",
      "  'available', HessianInversionWarning)\n",
      "/Users/shekhartanwar/anaconda3/lib/python3.7/site-packages/statsmodels/tsa/tsatools.py:695: RuntimeWarning: invalid value encountered in log\n",
      "  invmacoefs = -np.log((1-macoefs)/(1+macoefs))\n",
      "/Users/shekhartanwar/anaconda3/lib/python3.7/site-packages/statsmodels/base/model.py:492: HessianInversionWarning: Inverting hessian failed, no bse or cov_params available\n",
      "  'available', HessianInversionWarning)\n"
     ]
    },
    {
     "name": "stdout",
     "output_type": "stream",
     "text": [
      "Model RMSE : 24.95609183035536 : Config : (4, 1, 2)\n"
     ]
    },
    {
     "name": "stderr",
     "output_type": "stream",
     "text": [
      "/Users/shekhartanwar/anaconda3/lib/python3.7/site-packages/statsmodels/tsa/tsatools.py:668: RuntimeWarning: invalid value encountered in true_divide\n",
      "  newparams = ((1-np.exp(-params))/(1+np.exp(-params))).copy()\n",
      "/Users/shekhartanwar/anaconda3/lib/python3.7/site-packages/statsmodels/tsa/tsatools.py:669: RuntimeWarning: invalid value encountered in true_divide\n",
      "  tmp = ((1-np.exp(-params))/(1+np.exp(-params))).copy()\n",
      "/Users/shekhartanwar/anaconda3/lib/python3.7/site-packages/statsmodels/base/model.py:492: HessianInversionWarning: Inverting hessian failed, no bse or cov_params available\n",
      "  'available', HessianInversionWarning)\n",
      "/Users/shekhartanwar/anaconda3/lib/python3.7/site-packages/statsmodels/base/model.py:512: ConvergenceWarning: Maximum Likelihood optimization failed to converge. Check mle_retvals\n",
      "  \"Check mle_retvals\", ConvergenceWarning)\n",
      "/Users/shekhartanwar/anaconda3/lib/python3.7/site-packages/statsmodels/base/model.py:492: HessianInversionWarning: Inverting hessian failed, no bse or cov_params available\n",
      "  'available', HessianInversionWarning)\n",
      "/Users/shekhartanwar/anaconda3/lib/python3.7/site-packages/statsmodels/tsa/arima_model.py:1826: RuntimeWarning: invalid value encountered in sqrt\n",
      "  fcerr = np.sqrt(np.cumsum(cumsum_n(ma_rep, self.k_diff)**2)*sigma2)\n",
      "/Users/shekhartanwar/anaconda3/lib/python3.7/site-packages/statsmodels/base/model.py:492: HessianInversionWarning: Inverting hessian failed, no bse or cov_params available\n",
      "  'available', HessianInversionWarning)\n",
      "/Users/shekhartanwar/anaconda3/lib/python3.7/site-packages/statsmodels/base/model.py:492: HessianInversionWarning: Inverting hessian failed, no bse or cov_params available\n",
      "  'available', HessianInversionWarning)\n",
      "/Users/shekhartanwar/anaconda3/lib/python3.7/site-packages/statsmodels/tsa/tsatools.py:693: RuntimeWarning: invalid value encountered in double_scalars\n",
      "  tmp[kiter] = (macoefs[kiter]-b *macoefs[j-kiter-1])/(1-b**2)\n",
      "/Users/shekhartanwar/anaconda3/lib/python3.7/site-packages/statsmodels/tsa/tsatools.py:695: RuntimeWarning: divide by zero encountered in true_divide\n",
      "  invmacoefs = -np.log((1-macoefs)/(1+macoefs))\n",
      "/Users/shekhartanwar/anaconda3/lib/python3.7/site-packages/statsmodels/tools/numdiff.py:243: RuntimeWarning: invalid value encountered in add\n",
      "  **kwargs)).imag/2./hess[i, j]\n",
      "/Users/shekhartanwar/anaconda3/lib/python3.7/site-packages/statsmodels/tools/numdiff.py:243: RuntimeWarning: invalid value encountered in multiply\n",
      "  **kwargs)).imag/2./hess[i, j]\n",
      "/Users/shekhartanwar/anaconda3/lib/python3.7/site-packages/statsmodels/base/model.py:492: HessianInversionWarning: Inverting hessian failed, no bse or cov_params available\n",
      "  'available', HessianInversionWarning)\n",
      "/Users/shekhartanwar/anaconda3/lib/python3.7/site-packages/statsmodels/base/model.py:492: HessianInversionWarning: Inverting hessian failed, no bse or cov_params available\n",
      "  'available', HessianInversionWarning)\n",
      "/Users/shekhartanwar/anaconda3/lib/python3.7/site-packages/statsmodels/base/model.py:512: ConvergenceWarning: Maximum Likelihood optimization failed to converge. Check mle_retvals\n",
      "  \"Check mle_retvals\", ConvergenceWarning)\n"
     ]
    },
    {
     "name": "stdout",
     "output_type": "stream",
     "text": [
      "Best RMSE : 21.732610507221565 : Best Config : (2, 1, 0)\n"
     ]
    }
   ],
   "source": [
    "p_range = range(0,5)\n",
    "d_range = range(0,2)\n",
    "q_range = range(0,5)\n",
    "make_model(dataset, p_range, d_range, q_range)"
   ]
  },
  {
   "cell_type": "markdown",
   "metadata": {},
   "source": [
    "### NOTE  :\n",
    "\n",
    "Since now we have finalized our model :  ARIMA (2,1,0), we will look at the residual errors"
   ]
  },
  {
   "cell_type": "code",
   "execution_count": 66,
   "metadata": {},
   "outputs": [],
   "source": [
    "def evaluate_arima(data, arima_order):\n",
    "    X = dataset.values\n",
    "    X = X.astype('float32')\n",
    "    train_size = int(len(X) * 0.5)\n",
    "\n",
    "    train, test = X[0:train_size], X[train_size :]\n",
    "\n",
    "\n",
    "    history = [x for x in train]\n",
    "    \n",
    "    predictions = []\n",
    "    \n",
    "    for t in range(len(test)):\n",
    "        model = ARIMA(history, arima_order)\n",
    "        model_fit = model.fit(trend = 'nc',disp = 0)\n",
    "        y_hat  = model_fit.forecast()[0]\n",
    "        \n",
    "        observation = test[t]\n",
    "        \n",
    "        predictions.append(y_hat)\n",
    "        history.append(observation)\n",
    "        \n",
    "    rmse =  math.sqrt(mean_squared_error(test,predictions))\n",
    "    print(\"RMSE\", rmse, sep = \"  : \")\n",
    "    return (predictions,test)\n"
   ]
  },
  {
   "cell_type": "code",
   "execution_count": 67,
   "metadata": {},
   "outputs": [
    {
     "name": "stdout",
     "output_type": "stream",
     "text": [
      "RMSE  : 21.732610507221565\n"
     ]
    }
   ],
   "source": [
    "arima_order = (2,1,0)\n",
    "predictions,test  = evaluate_arima(dataset, arima_order)"
   ]
  },
  {
   "cell_type": "code",
   "execution_count": 70,
   "metadata": {},
   "outputs": [
    {
     "data": {
      "text/plain": [
       "array([[<matplotlib.axes._subplots.AxesSubplot object at 0x1c1cef8da0>]],\n",
       "      dtype=object)"
      ]
     },
     "execution_count": 70,
     "metadata": {},
     "output_type": "execute_result"
    },
    {
     "data": {
      "image/png": "[encoded data removed]",
      "text/plain": [
       "<Figure size 432x288 with 1 Axes>"
      ]
     },
     "metadata": {
      "needs_background": "light"
     },
     "output_type": "display_data"
    }
   ],
   "source": [
    "residuals = [test[i] - predictions[i] for i in range(len(test))]\n",
    "\n",
    "\n",
    "pd.DataFrame(residuals).hist()\n"
   ]
  },
  {
   "cell_type": "code",
   "execution_count": 72,
   "metadata": {},
   "outputs": [
    {
     "data": {
      "image/png": "[encoded data removed]",
      "text/plain": [
       "<Figure size 432x288 with 1 Axes>"
      ]
     },
     "metadata": {
      "needs_background": "light"
     },
     "output_type": "display_data"
    }
   ],
   "source": [
    "\n",
    "pd.DataFrame(residuals).plot(kind = 'kde')\n",
    "plt.show()"
   ]
  },
  {
   "cell_type": "code",
   "execution_count": 73,
   "metadata": {},
   "outputs": [
    {
     "data": {
      "text/html": [
       "<div>\n",
       "<style scoped>\n",
       "    .dataframe tbody tr th:only-of-type {\n",
       "        vertical-align: middle;\n",
       "    }\n",
       "\n",
       "    .dataframe tbody tr th {\n",
       "        vertical-align: top;\n",
       "    }\n",
       "\n",
       "    .dataframe thead th {\n",
       "        text-align: right;\n",
       "    }\n",
       "</style>\n",
       "<table border=\"1\" class=\"dataframe\">\n",
       "  <thead>\n",
       "    <tr style=\"text-align: right;\">\n",
       "      <th></th>\n",
       "      <th>0</th>\n",
       "    </tr>\n",
       "  </thead>\n",
       "  <tbody>\n",
       "    <tr>\n",
       "      <th>count</th>\n",
       "      <td>35.000000</td>\n",
       "    </tr>\n",
       "    <tr>\n",
       "      <th>mean</th>\n",
       "      <td>1.081624</td>\n",
       "    </tr>\n",
       "    <tr>\n",
       "      <th>std</th>\n",
       "      <td>22.022566</td>\n",
       "    </tr>\n",
       "    <tr>\n",
       "      <th>min</th>\n",
       "      <td>-52.103812</td>\n",
       "    </tr>\n",
       "    <tr>\n",
       "      <th>25%</th>\n",
       "      <td>-16.202281</td>\n",
       "    </tr>\n",
       "    <tr>\n",
       "      <th>50%</th>\n",
       "      <td>-0.459803</td>\n",
       "    </tr>\n",
       "    <tr>\n",
       "      <th>75%</th>\n",
       "      <td>12.085091</td>\n",
       "    </tr>\n",
       "    <tr>\n",
       "      <th>max</th>\n",
       "      <td>51.284337</td>\n",
       "    </tr>\n",
       "  </tbody>\n",
       "</table>\n",
       "</div>"
      ],
      "text/plain": [
       "               0\n",
       "count  35.000000\n",
       "mean    1.081624\n",
       "std    22.022566\n",
       "min   -52.103812\n",
       "25%   -16.202281\n",
       "50%    -0.459803\n",
       "75%    12.085091\n",
       "max    51.284337"
      ]
     },
     "execution_count": 73,
     "metadata": {},
     "output_type": "execute_result"
    }
   ],
   "source": [
    "pd.DataFrame(residuals).describe()"
   ]
  },
  {
   "cell_type": "markdown",
   "metadata": {},
   "source": [
    "### Observation : \n",
    "\n",
    "The residuals do not perfectly belong to a Gaussian Distribution, and thus more information can be squeezed from the residuals\n",
    "\n",
    "Another thing which can be done is create lag variables and use residuals from the model as a feature, to decrease the overall error, or use the mean residual error and add that to each prediction made"
   ]
  },
  {
   "cell_type": "code",
   "execution_count": 79,
   "metadata": {},
   "outputs": [],
   "source": [
    "def evaluate_arima(data, arima_order):\n",
    "    X = dataset.values\n",
    "    X = X.astype('float32')\n",
    "    train_size = int(len(X) * 0.5)\n",
    "\n",
    "    train, test = X[0:train_size], X[train_size :]\n",
    "\n",
    "\n",
    "    history = [x for x in train]\n",
    "    \n",
    "    predictions = []\n",
    "    bias = 1.081624\n",
    "    for t in range(len(test)):\n",
    "        model = ARIMA(history, arima_order)\n",
    "        model_fit = model.fit(trend = 'nc',disp = 0)\n",
    "        y_hat  = model_fit.forecast()[0]\n",
    "        y_hat =  bias + float(y_hat)\n",
    "        observation = test[t]\n",
    "        \n",
    "        predictions.append(y_hat)\n",
    "        history.append(observation)\n",
    "        \n",
    "    rmse =  math.sqrt(mean_squared_error(test,predictions))\n",
    "    print(\"RMSE\", rmse, sep = \"  : \")\n",
    "    return (predictions,test)"
   ]
  },
  {
   "cell_type": "code",
   "execution_count": 80,
   "metadata": {},
   "outputs": [
    {
     "name": "stdout",
     "output_type": "stream",
     "text": [
      "RMSE  : 21.705677786544477\n"
     ]
    }
   ],
   "source": [
    "arima_order = (2,1,0)\n",
    "(predictions,test) = evaluate_arima(dataset, arima_order)"
   ]
  },
  {
   "cell_type": "code",
   "execution_count": 81,
   "metadata": {},
   "outputs": [
    {
     "data": {
      "text/plain": [
       "array([[<matplotlib.axes._subplots.AxesSubplot object at 0x1c1cf43ba8>]],\n",
       "      dtype=object)"
      ]
     },
     "execution_count": 81,
     "metadata": {},
     "output_type": "execute_result"
    },
    {
     "data": {
      "image/png": "[encoded data removed]",
      "text/plain": [
       "<Figure size 432x288 with 1 Axes>"
      ]
     },
     "metadata": {
      "needs_background": "light"
     },
     "output_type": "display_data"
    }
   ],
   "source": [
    "residuals = [test[i] - predictions[i] for i in range(len(test))]\n",
    "\n",
    "\n",
    "pd.DataFrame(residuals).hist()"
   ]
  },
  {
   "cell_type": "code",
   "execution_count": 82,
   "metadata": {},
   "outputs": [
    {
     "data": {
      "image/png": "[encoded data removed]",
      "text/plain": [
       "<Figure size 432x288 with 1 Axes>"
      ]
     },
     "metadata": {
      "needs_background": "light"
     },
     "output_type": "display_data"
    }
   ],
   "source": [
    "pd.DataFrame(residuals).plot(kind = 'kde')\n",
    "plt.show()"
   ]
  },
  {
   "cell_type": "code",
   "execution_count": 83,
   "metadata": {},
   "outputs": [
    {
     "data": {
      "text/html": [
       "<div>\n",
       "<style scoped>\n",
       "    .dataframe tbody tr th:only-of-type {\n",
       "        vertical-align: middle;\n",
       "    }\n",
       "\n",
       "    .dataframe tbody tr th {\n",
       "        vertical-align: top;\n",
       "    }\n",
       "\n",
       "    .dataframe thead th {\n",
       "        text-align: right;\n",
       "    }\n",
       "</style>\n",
       "<table border=\"1\" class=\"dataframe\">\n",
       "  <thead>\n",
       "    <tr style=\"text-align: right;\">\n",
       "      <th></th>\n",
       "      <th>0</th>\n",
       "    </tr>\n",
       "  </thead>\n",
       "  <tbody>\n",
       "    <tr>\n",
       "      <th>count</th>\n",
       "      <td>3.500000e+01</td>\n",
       "    </tr>\n",
       "    <tr>\n",
       "      <th>mean</th>\n",
       "      <td>3.734804e-07</td>\n",
       "    </tr>\n",
       "    <tr>\n",
       "      <th>std</th>\n",
       "      <td>2.202257e+01</td>\n",
       "    </tr>\n",
       "    <tr>\n",
       "      <th>min</th>\n",
       "      <td>-5.318544e+01</td>\n",
       "    </tr>\n",
       "    <tr>\n",
       "      <th>25%</th>\n",
       "      <td>-1.728390e+01</td>\n",
       "    </tr>\n",
       "    <tr>\n",
       "      <th>50%</th>\n",
       "      <td>-1.541427e+00</td>\n",
       "    </tr>\n",
       "    <tr>\n",
       "      <th>75%</th>\n",
       "      <td>1.100347e+01</td>\n",
       "    </tr>\n",
       "    <tr>\n",
       "      <th>max</th>\n",
       "      <td>5.020271e+01</td>\n",
       "    </tr>\n",
       "  </tbody>\n",
       "</table>\n",
       "</div>"
      ],
      "text/plain": [
       "                  0\n",
       "count  3.500000e+01\n",
       "mean   3.734804e-07\n",
       "std    2.202257e+01\n",
       "min   -5.318544e+01\n",
       "25%   -1.728390e+01\n",
       "50%   -1.541427e+00\n",
       "75%    1.100347e+01\n",
       "max    5.020271e+01"
      ]
     },
     "execution_count": 83,
     "metadata": {},
     "output_type": "execute_result"
    }
   ],
   "source": [
    "pd.DataFrame(residuals).describe()"
   ]
  },
  {
   "cell_type": "markdown",
   "metadata": {},
   "source": [
    "### OBSERVATION : \n",
    "\n",
    "The model's error is reduced in comparison to the previous approach"
   ]
  },
  {
   "cell_type": "markdown",
   "metadata": {},
   "source": [
    "# Model Validation"
   ]
  },
  {
   "cell_type": "code",
   "execution_count": 84,
   "metadata": {},
   "outputs": [],
   "source": [
    "def __getnewargs__(self):\n",
    "    return ((self.endog),(self.k_lags, self.k_diff, self.k_ma))\n",
    "ARIMA.__getnewargs__ = __getnewargs__"
   ]
  },
  {
   "cell_type": "code",
   "execution_count": 90,
   "metadata": {},
   "outputs": [],
   "source": [
    "X = dataset.values.astype('float32')\n",
    "\n",
    "model  = ARIMA(X,(2,1,0))\n",
    "model_fit = model.fit(trend = 'nc',disp = 0)\n",
    "bias = 1.081624\n",
    "model_fit.save('model_fit.pkl')\n",
    "np.save(\"BIAS.npy\",[bias])"
   ]
  },
  {
   "cell_type": "markdown",
   "metadata": {},
   "source": [
    "### Validate Model"
   ]
  },
  {
   "cell_type": "markdown",
   "metadata": {},
   "source": [
    "### Evaluation : Without BoxCox Tranformation"
   ]
  },
  {
   "cell_type": "code",
   "execution_count": 100,
   "metadata": {},
   "outputs": [
    {
     "name": "stdout",
     "output_type": "stream",
     "text": [
      "Predicted Value 578.8884408177365 Actual Value 575.0\n",
      "Predicted Value 572.223706406008 Actual Value 579.0\n",
      "Predicted Value 580.2551141354718 Actual Value 587.0\n",
      "Predicted Value 588.0280824895782 Actual Value 602.0\n",
      "Predicted Value 602.9573385567564 Actual Value 594.0\n",
      "Predicted Value 593.2161905572436 Actual Value 587.0\n",
      "Predicted Value 588.5869567084118 Actual Value 587.0\n",
      "Predicted Value 588.7953043549597 Actual Value 625.0\n",
      "Predicted Value 627.7727701859694 Actual Value 613.0\n",
      "RMSE : 16.539046442992\n"
     ]
    }
   ],
   "source": [
    "X = dataset.values.astype('float32')\n",
    "y = validation.values.astype('float32')\n",
    "\n",
    "model_fit = ARIMAResults.load('model_fit.pkl')\n",
    "bias = np.load('BIAS.npy')[0]\n",
    "\n",
    "history = [x for x in X]\n",
    "predictions = []\n",
    "\n",
    "model = ARIMAResults\n",
    "y_hat = bias + float(model_fit.forecast()[0])\n",
    "\n",
    "predictions.append(y_hat)\n",
    "history.append(y[1])\n",
    "\n",
    "for t in range(1, len(y)):\n",
    "    model = ARIMA(history, (2,1,0))\n",
    "    model_fit = model.fit(trend = 'nc', disp = 0)\n",
    "    y_hat = bias + float(model_fit.forecast()[0])\n",
    "    \n",
    "    observation = y[t]\n",
    "    \n",
    "    history.append(observation)\n",
    "    predictions.append(y_hat)\n",
    "    \n",
    "    print(\"Predicted Value\", y_hat, \"Actual Value\", observation)\n",
    "rmse = math.sqrt(mean_squared_error(y,predictions))    \n",
    "print(\"RMSE\",rmse,sep =  \" : \")\n",
    "    "
   ]
  },
  {
   "cell_type": "markdown",
   "metadata": {},
   "source": [
    "### Evaluation : With BoxCox Tranformation"
   ]
  },
  {
   "cell_type": "code",
   "execution_count": 97,
   "metadata": {},
   "outputs": [],
   "source": [
    "def inverse_boxcox(lam, value):\n",
    "    if lam == 0:\n",
    "        return np.exp(value)\n",
    "    else:\n",
    "        return np.exp(np.log(lam * value + 1)/lam)"
   ]
  },
  {
   "cell_type": "code",
   "execution_count": 102,
   "metadata": {},
   "outputs": [],
   "source": [
    "X = dataset.values.astype('float32')\n",
    "transformed,lam = boxcox(X)\n",
    "\n",
    "model  = ARIMA(transformed,(2,1,0))\n",
    "model_fit = model.fit(trend = 'nc',disp = 0)\n",
    "bias = 1.081624\n",
    "model_fit.save('t_model_fit.pkl')\n",
    "np.save('lambda.npy',[lam])\n",
    "np.save(\"BIAS.npy\",[bias])"
   ]
  },
  {
   "cell_type": "code",
   "execution_count": 119,
   "metadata": {},
   "outputs": [
    {
     "name": "stdout",
     "output_type": "stream",
     "text": [
      "Predicted_Value 540.0795086846839 Actual Value 568.0\n",
      "Predicted Value 569.3222683031022 Actual Value 575.0\n",
      "Predicted Value 573.9627720512376 Actual Value 579.0\n",
      "Predicted Value 579.5914577644435 Actual Value 587.0\n",
      "Predicted Value 587.8586161812988 Actual Value 602.0\n",
      "Predicted Value 602.7128885314294 Actual Value 594.0\n",
      "Predicted Value 593.6347922177422 Actual Value 587.0\n",
      "Predicted Value 588.5795412448057 Actual Value 587.0\n",
      "Predicted Value 588.7459395936988 Actual Value 625.0\n",
      "Predicted Value 627.673144258111 Actual Value 613.0\n",
      "RMSE : 16.56537737428001\n"
     ]
    },
    {
     "name": "stderr",
     "output_type": "stream",
     "text": [
      "/Users/shekhartanwar/anaconda3/lib/python3.7/site-packages/numpy/core/_methods.py:121: RuntimeWarning: overflow encountered in multiply\n",
      "  x = um.multiply(x, x, out=x)\n"
     ]
    }
   ],
   "source": [
    "X = dataset.values.astype('float32')\n",
    "y = validation.values.astype('float32')\n",
    "\n",
    "model_fit = ARIMAResults.load('t_model_fit.pkl')\n",
    "lam = np.load('lambda.npy')\n",
    "bias = np.load('BIAS.npy')[0]\n",
    "\n",
    "history = [x for x in X]\n",
    "predictions = []\n",
    "\n",
    "\n",
    "y_hat = model_fit.forecast()[0]\n",
    "\n",
    "y_hat = inverse_boxcox(lam,y_hat)\n",
    "\n",
    "y_hat = bias + float(y_hat)\n",
    "\n",
    "\n",
    "print(\"Predicted_Value\", y_hat, \"Actual Value\", y[0])\n",
    "\n",
    "predictions.append(y_hat)\n",
    "history.append(y[0])\n",
    "\n",
    "for t in range(1, len(y)):\n",
    "    transformed, lam = boxcox(history)\n",
    "    if lam < -5:\n",
    "        transformed, lam = history,1\n",
    "        \n",
    "    model = ARIMA(transformed, (2,1,0))\n",
    "    model_fit = model.fit(trend = 'nc', disp = 0)\n",
    "    y_hat = float(model_fit.forecast()[0])\n",
    "    \n",
    "    y_hat = inverse_boxcox(lam,y_hat)\n",
    "    y_hat = bias + float(y_hat)\n",
    "    \n",
    "    observation = y[t]\n",
    "    \n",
    "    history.append(observation)\n",
    "    predictions.append(y_hat)\n",
    "    \n",
    "    print(\"Predicted Value\", y_hat, \"Actual Value\", observation)\n",
    "rmse = math.sqrt(mean_squared_error(y,predictions))    \n",
    "print(\"RMSE\",rmse,sep =  \" : \")\n",
    "    "
   ]
  },
  {
   "cell_type": "code",
   "execution_count": 108,
   "metadata": {},
   "outputs": [
    {
     "data": {
      "text/html": [
       "<div>\n",
       "<style scoped>\n",
       "    .dataframe tbody tr th:only-of-type {\n",
       "        vertical-align: middle;\n",
       "    }\n",
       "\n",
       "    .dataframe tbody tr th {\n",
       "        vertical-align: top;\n",
       "    }\n",
       "\n",
       "    .dataframe thead th {\n",
       "        text-align: right;\n",
       "    }\n",
       "</style>\n",
       "<table border=\"1\" class=\"dataframe\">\n",
       "  <thead>\n",
       "    <tr style=\"text-align: right;\">\n",
       "      <th></th>\n",
       "      <th>0</th>\n",
       "      <th>1</th>\n",
       "    </tr>\n",
       "  </thead>\n",
       "  <tbody>\n",
       "    <tr>\n",
       "      <th>0</th>\n",
       "      <td>568.0</td>\n",
       "      <td>[2535430.7762170685]</td>\n",
       "    </tr>\n",
       "    <tr>\n",
       "      <th>1</th>\n",
       "      <td>575.0</td>\n",
       "      <td>576.198</td>\n",
       "    </tr>\n",
       "    <tr>\n",
       "      <th>2</th>\n",
       "      <td>579.0</td>\n",
       "      <td>573.512</td>\n",
       "    </tr>\n",
       "    <tr>\n",
       "      <th>3</th>\n",
       "      <td>587.0</td>\n",
       "      <td>580.078</td>\n",
       "    </tr>\n",
       "    <tr>\n",
       "      <th>4</th>\n",
       "      <td>602.0</td>\n",
       "      <td>587.829</td>\n",
       "    </tr>\n",
       "    <tr>\n",
       "      <th>5</th>\n",
       "      <td>594.0</td>\n",
       "      <td>602.653</td>\n",
       "    </tr>\n",
       "    <tr>\n",
       "      <th>6</th>\n",
       "      <td>587.0</td>\n",
       "      <td>593.666</td>\n",
       "    </tr>\n",
       "    <tr>\n",
       "      <th>7</th>\n",
       "      <td>587.0</td>\n",
       "      <td>588.608</td>\n",
       "    </tr>\n",
       "    <tr>\n",
       "      <th>8</th>\n",
       "      <td>625.0</td>\n",
       "      <td>588.747</td>\n",
       "    </tr>\n",
       "    <tr>\n",
       "      <th>9</th>\n",
       "      <td>613.0</td>\n",
       "      <td>627.516</td>\n",
       "    </tr>\n",
       "  </tbody>\n",
       "</table>\n",
       "</div>"
      ],
      "text/plain": [
       "       0                     1\n",
       "0  568.0  [2535430.7762170685]\n",
       "1  575.0               576.198\n",
       "2  579.0               573.512\n",
       "3  587.0               580.078\n",
       "4  602.0               587.829\n",
       "5  594.0               602.653\n",
       "6  587.0               593.666\n",
       "7  587.0               588.608\n",
       "8  625.0               588.747\n",
       "9  613.0               627.516"
      ]
     },
     "execution_count": 108,
     "metadata": {},
     "output_type": "execute_result"
    }
   ],
   "source": [
    "pd.DataFrame(list(zip(y,predictions)))"
   ]
  },
  {
   "cell_type": "code",
   "execution_count": 124,
   "metadata": {},
   "outputs": [
    {
     "data": {
      "image/png": "[encoded data removed]",
      "text/plain": [
       "<Figure size 1080x576 with 1 Axes>"
      ]
     },
     "metadata": {
      "needs_background": "light"
     },
     "output_type": "display_data"
    }
   ],
   "source": [
    "plt.figure(figsize = (15,8))\n",
    "plt.plot(y)\n",
    "plt.plot(predictions)\n",
    "plt.ylabel('Consumption/Year', fontsize = 20)\n",
    "plt.xlabel('Years', fontsize = 20)\n",
    "plt.show()"
   ]
  },
  {
   "cell_type": "markdown",
   "metadata": {},
   "source": [
    "# Conclusion : \n",
    "'\n",
    "\n",
    "The model performs best when boxcox transform is not applied to the model and we instead use only the residual errors to make our forecasts"
   ]
  }
 ],
 "metadata": {
  "kernelspec": {
   "display_name": "Python 3",
   "language": "python",
   "name": "python3"
  },
  "language_info": {
   "codemirror_mode": {
    "name": "ipython",
    "version": 3
   },
   "file_extension": ".py",
   "mimetype": "text/x-python",
   "name": "python",
   "nbconvert_exporter": "python",
   "pygments_lexer": "ipython3",
   "version": "3.7.3"
  }
 },
 "nbformat": 4,
 "nbformat_minor": 2
}
